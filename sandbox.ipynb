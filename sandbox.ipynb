{
 "cells": [
  {
   "cell_type": "code",
   "execution_count": 1,
   "metadata": {},
   "outputs": [],
   "source": [
    "from contrans import contrans\n",
    "import numpy as np\n",
    "import pandas as pd\n",
    "import dotenv\n",
    "import os\n",
    "import json\n",
    "import requests \n",
    "dotenv.load_dotenv()\n",
    "congresskey = os.getenv('congresskey')"
   ]
  },
  {
   "cell_type": "code",
   "execution_count": 2,
   "metadata": {},
   "outputs": [],
   "source": [
    "ct = contrans()"
   ]
  },
  {
   "cell_type": "code",
   "execution_count": 3,
   "metadata": {},
   "outputs": [
    {
     "data": {
      "text/html": [
       "<div>\n",
       "<style scoped>\n",
       "    .dataframe tbody tr th:only-of-type {\n",
       "        vertical-align: middle;\n",
       "    }\n",
       "\n",
       "    .dataframe tbody tr th {\n",
       "        vertical-align: top;\n",
       "    }\n",
       "\n",
       "    .dataframe thead th {\n",
       "        text-align: right;\n",
       "    }\n",
       "</style>\n",
       "<table border=\"1\" class=\"dataframe\">\n",
       "  <thead>\n",
       "    <tr style=\"text-align: right;\">\n",
       "      <th></th>\n",
       "      <th>bioguideId</th>\n",
       "      <th>district</th>\n",
       "      <th>name</th>\n",
       "      <th>partyName</th>\n",
       "      <th>state</th>\n",
       "      <th>updateDate</th>\n",
       "      <th>url</th>\n",
       "      <th>depiction.attribution</th>\n",
       "      <th>depiction.imageUrl</th>\n",
       "      <th>terms.item</th>\n",
       "    </tr>\n",
       "  </thead>\n",
       "  <tbody>\n",
       "    <tr>\n",
       "      <th>0</th>\n",
       "      <td>G000595</td>\n",
       "      <td>5.0</td>\n",
       "      <td>good, bob</td>\n",
       "      <td>Republican</td>\n",
       "      <td>Virginia</td>\n",
       "      <td>2024-06-08T18:40:22Z</td>\n",
       "      <td>https://api.congress.gov/v3/member/G000595?for...</td>\n",
       "      <td>Image courtesy of the Member</td>\n",
       "      <td>https://www.congress.gov/img/member/g000595_20...</td>\n",
       "      <td>[{'chamber': 'House of Representatives', 'star...</td>\n",
       "    </tr>\n",
       "    <tr>\n",
       "      <th>1</th>\n",
       "      <td>G000280</td>\n",
       "      <td>5.0</td>\n",
       "      <td>goode, virgil h., jr.</td>\n",
       "      <td>Republican</td>\n",
       "      <td>Virginia</td>\n",
       "      <td>2022-12-16T21:56:51Z</td>\n",
       "      <td>https://api.congress.gov/v3/member/G000280?for...</td>\n",
       "      <td>Image, Congressional Pictorial Directory, 109th.</td>\n",
       "      <td>https://www.congress.gov/img/member/g000280_20...</td>\n",
       "      <td>[{'chamber': 'House of Representatives', 'endY...</td>\n",
       "    </tr>\n",
       "  </tbody>\n",
       "</table>\n",
       "</div>"
      ],
      "text/plain": [
       "  bioguideId  district                   name   partyName     state  \\\n",
       "0    G000595       5.0              good, bob  Republican  Virginia   \n",
       "1    G000280       5.0  goode, virgil h., jr.  Republican  Virginia   \n",
       "\n",
       "             updateDate                                                url  \\\n",
       "0  2024-06-08T18:40:22Z  https://api.congress.gov/v3/member/G000595?for...   \n",
       "1  2022-12-16T21:56:51Z  https://api.congress.gov/v3/member/G000280?for...   \n",
       "\n",
       "                              depiction.attribution  \\\n",
       "0                      Image courtesy of the Member   \n",
       "1  Image, Congressional Pictorial Directory, 109th.   \n",
       "\n",
       "                                  depiction.imageUrl  \\\n",
       "0  https://www.congress.gov/img/member/g000595_20...   \n",
       "1  https://www.congress.gov/img/member/g000280_20...   \n",
       "\n",
       "                                          terms.item  \n",
       "0  [{'chamber': 'House of Representatives', 'star...  \n",
       "1  [{'chamber': 'House of Representatives', 'endY...  "
      ]
     },
     "execution_count": 3,
     "metadata": {},
     "output_type": "execute_result"
    }
   ],
   "source": [
    "goodbioguide = ct.get_bioguide(name='good', state='Virginia', district=5)\n",
    "goodbioguide"
   ]
  },
  {
   "cell_type": "code",
   "execution_count": 4,
   "metadata": {},
   "outputs": [],
   "source": [
    "goodid  = goodbioguide.reset_index()['bioguideId'][0]"
   ]
  },
  {
   "cell_type": "code",
   "execution_count": 5,
   "metadata": {},
   "outputs": [],
   "source": [
    "goodsbills = ct.get_sponsoredlegislation(goodid)"
   ]
  },
  {
   "cell_type": "code",
   "execution_count": 6,
   "metadata": {},
   "outputs": [],
   "source": [
    "billurl = goodsbills[0]['url'] ### this is an example of one bill"
   ]
  },
  {
   "cell_type": "code",
   "execution_count": 7,
   "metadata": {},
   "outputs": [
    {
     "data": {
      "text/plain": [
       "{'bill': {'actions': {'count': 3,\n",
       "   'url': 'https://api.congress.gov/v3/bill/118/hres/1509/actions?format=json'},\n",
       "  'committees': {'count': 1,\n",
       "   'url': 'https://api.congress.gov/v3/bill/118/hres/1509/committees?format=json'},\n",
       "  'congress': 118,\n",
       "  'cosponsors': {'count': 30,\n",
       "   'countIncludingWithdrawnCosponsors': 30,\n",
       "   'url': 'https://api.congress.gov/v3/bill/118/hres/1509/cosponsors?format=json'},\n",
       "  'introducedDate': '2024-09-25',\n",
       "  'latestAction': {'actionDate': '2024-09-25',\n",
       "   'text': 'Referred to the House Committee on Energy and Commerce.'},\n",
       "  'number': '1509',\n",
       "  'originChamber': 'House',\n",
       "  'originChamberCode': 'H',\n",
       "  'sponsors': [{'bioguideId': 'G000595',\n",
       "    'district': 5,\n",
       "    'firstName': 'Bob',\n",
       "    'fullName': 'Rep. Good, Bob [R-VA-5]',\n",
       "    'isByRequest': 'N',\n",
       "    'lastName': 'Good',\n",
       "    'party': 'R',\n",
       "    'state': 'VA',\n",
       "    'url': 'https://api.congress.gov/v3/member/G000595?format=json'}],\n",
       "  'textVersions': {'count': 1,\n",
       "   'url': 'https://api.congress.gov/v3/bill/118/hres/1509/text?format=json'},\n",
       "  'title': 'Supporting the designation of the week beginning November 11, 2024, as \"National Pregnancy Center Week\" to recognize the vital role that community-supported pregnancy centers play in saving lives and serving women and men faced with difficult pregnancy decisions.',\n",
       "  'titles': {'count': 2,\n",
       "   'url': 'https://api.congress.gov/v3/bill/118/hres/1509/titles?format=json'},\n",
       "  'type': 'HRES',\n",
       "  'updateDate': '2024-10-05T08:05:52Z',\n",
       "  'updateDateIncludingText': '2024-10-05T08:05:52Z'},\n",
       " 'request': {'billNumber': '1509',\n",
       "  'billType': 'hres',\n",
       "  'congress': '118',\n",
       "  'contentType': 'application/json',\n",
       "  'format': 'json'},\n",
       " 'bill_text': \"\\n[Congressional Bills 118th Congress]\\n[From the U.S. Government Publishing Office]\\n[H. Res. 1509 Introduced in House (IH)]\\n\\n<DOC>\\n\\n\\n\\n\\n\\n\\n118th CONGRESS\\n  2d Session\\nH. RES. 1509\\n\\nSupporting the designation of the week beginning November 11, 2024, as \\n  ``National Pregnancy Center Week'' to recognize the vital role that \\ncommunity-supported pregnancy centers play in saving lives and serving \\n        women and men faced with difficult pregnancy decisions.\\n\\n\\n_______________________________________________________________________\\n\\n\\n                    IN THE HOUSE OF REPRESENTATIVES\\n\\n                           September 25, 2024\\n\\n Mr. Good of Virginia (for himself, Mr. Clyde, Mr. Mooney, Mr. Gosar, \\n Mr. Posey, Mr. Burgess, Mr. Bacon, Mr. Fleischmann, Mr. Grothman, Mr. \\nRose, Mr. Fulcher, Mr. Biggs, Mr. Higgins of Louisiana, Mr. Ogles, Mr. \\n Kelly of Pennsylvania, Mr. Lamborn, Mrs. Harshbarger, Mr. Norman, Mr. \\n  Wilson of South Carolina, Mrs. Miller of Illinois, Mr. LaMalfa, Mr. \\n    Murphy, Mr. Self, Mr. Allen, Mr. Weber of Texas, Mr. Issa, Mrs. \\nFischbach, and Mr. Rosendale) submitted the following resolution; which \\n          was referred to the Committee on Energy and Commerce\\n\\n_______________________________________________________________________\\n\\n                               RESOLUTION\\n\\n\\n \\nSupporting the designation of the week beginning November 11, 2024, as \\n  ``National Pregnancy Center Week'' to recognize the vital role that \\ncommunity-supported pregnancy centers play in saving lives and serving \\n        women and men faced with difficult pregnancy decisions.\\n\\nWhereas, for more than 100 years, young women facing unplanned pregnancies have \\n        found support from charitable organizations ranging from Catholic \\n        Charities and Jewish maternity homes to the Salvation Army;\\nWhereas many charitable organizations banded together, on November 13, 1971, to \\n        form the first United States association of nonprofit organizations, \\n        known today as Heartbeat International, dedicated to rescuing as many \\n        lives as possible from abortion;\\nWhereas, as of 2024, there were approximately 3,000 pregnancy centers (also \\n        known as ``pregnancy care and resource centers'') in the United States;\\nWhereas women in every part of the United States turn to pregnancy centers for \\n        help, hope, and healing;\\nWhereas pregnancy centers are local, nonprofit organizations that provide vital \\n        and compassionate support to women and men faced with difficult \\n        pregnancy decisions;\\nWhereas pregnancy centers reach almost 2,000,000 people each year through a \\n        combination of client services, including--\\n\\n    (1) pregnancy tests;\\n\\n    (2) ultrasound and medical services;\\n\\n    (3) options counseling and education; and\\n\\n    (4) parenting and childbirth classes;\\n\\nWhereas the estimated value of services provided in 2022 to women and men of all \\n        ages and backgrounds was over $350,000,000;\\nWhereas some pregnancy centers offer specific medical services, including--\\n\\n    (1) consultation with a licensed medical professional;\\n\\n    (2) a limited ultrasound for pregnancy confirmation; and\\n\\n    (3) testing for sexually transmitted infections and diseases;\\n\\nWhereas the National Institute of Family and Life Advocates--\\n\\n    (1) provides life-affirming pregnancy centers with legal counsel, \\neducation, and training;\\n\\n    (2) has assisted hundreds of pregnancy centers in becoming medical \\nclinics; and\\n\\n    (3) has represented nearly 1,300 pregnancy centers that currently \\noperate as medical clinics;\\n\\nWhereas more than 53,000 people in the United States volunteer at community-\\n        supported pregnancy centers each year, including more than 5,000 \\n        licensed medical professionals;\\nWhereas nearly 2,250 medical pregnancy centers provide a limited ultrasound at \\n        little or no cost to women;\\nWhereas, in 2019, more than 486,000 ultrasounds were performed at medical \\n        pregnancy centers;\\nWhereas pregnancy centers understand that pregnancy can be emotional for mothers \\n        and fathers, and the compassionate staff and trained volunteers of \\n        pregnancy centers--\\n\\n    (1) provide each patient with educational materials; and\\n\\n    (2) offer each patient emotional support and care to help each patient \\nthrough difficult situations;\\n\\nWhereas close to 88 percent of pregnancy centers in the United States offer \\n        specialized parenting education--\\n\\n    (1) through direct services on premises; or\\n\\n    (2) in nearby churches, schools, or other locations;\\n\\nWhereas nearly every pregnancy care and resource center provides clients with \\n        material support for pregnancy and infant care, which may include--\\n\\n    (1) maternity clothing;\\n\\n    (2) baby clothes and furniture;\\n\\n    (3) housing assistance; or\\n\\n    (4) nutritional counseling and resources;\\n\\nWhereas pregnancy centers--\\n\\n    (1) do not discriminate based on age, race, nationality, creed, \\nreligious affiliation, disability, or arbitrary circumstances; and\\n\\n    (2) take special care to provide help to underserved minority \\npopulations;\\n\\nWhereas pregnancy centers have committed to engaging fathers so that they can \\n        acquire the skills necessary to become involved and responsible fathers;\\nWhereas Care Net-affiliated pregnancy centers have saved more than 886,000 \\n        babies since 2008;\\nWhereas Heartbeat International reports that the Abortion Pill Rescue Network \\n        has saved more than 5,000 lives from in-process chemical abortions since \\n        2012;\\nWhereas, between 2010 and 2024, 8 of 10 women considering abortion when they \\n        entered a Care Net-affiliated pregnancy care and resource center ended \\n        up choosing life;\\nWhereas, in 2022 alone, pregnancy centers--\\n\\n    (1) provided 546,000 free ultrasound scans;\\n\\n    (2) provided parenting support and education to nearly 410,000 \\nindividuals;\\n\\n    (3) provided more than 9,450,000 of free material resources to \\nindividuals in need; and\\n\\n    (4) administered 703,835 pregnancy tests;\\n\\nWhereas the 24-hour Option Line of Heartbeat International--\\n\\n    (1) helps carry out a mission of reaching and rescuing as many lives as \\npossible around the world through an effective network of life-affirming \\npregnancy centers; and\\n\\n    (2) answers questions by phone, text, email, or chat before connecting \\nan individual with the individual's local pregnancy center, where the \\nindividual will receive 1-on-1, compassionate, caring support;\\n\\nWhereas Heartbeat International has made contact with over 7,000,000 women and \\n        men seeking pregnancy help through the Option Line;\\nWhereas the Care Net Pregnancy Decision Line is the only national hotline that \\n        provides immediate pregnancy decision coaching by highly trained \\n        coaches;\\nWhereas Heartbeat International reports the existence of approximately 450 \\n        maternity homes in the United States;\\nWhereas Care Net, Heartbeat International, the National Institute of Family and \\n        Life Advocates, and other groups issued a statement entitled ``Our \\n        Commitment of Care and Competence'', which--\\n\\n    (1) addresses issues including--\\n\\n    G    (A) scientific and medical accuracy;\\n\\n    G    (B) truth in advertising;\\n\\n    G    (C) compassion;\\n\\n    G    (D) nondiscrimination;\\n\\n    G    (E) patient confidentiality;\\n\\n    G    (F) staff training; and\\n\\n    G    (G) a consistent life ethic; and\\n\\n    (2) expands the determination of the pregnancy help movement to comply \\nwith applicable legal requirements regarding--\\n\\n    G    (A) employment;\\n\\n    G    (B) fundraising;\\n\\n    G    (C) financial management;\\n\\n    G    (D) taxation;\\n\\n    G    (E) medical licensure; and\\n\\n    G    (F) operation standards;\\n\\nWhereas less than 10 percent of the income of pregnancy centers in the United \\n        States is derived from governmental sources, which ensures that \\n        pregnancy centers--\\n\\n    (1) minimize burdens on each taxpayer; and\\n\\n    (2) engage local communities to provide sustainable support; and\\n\\nWhereas, after the reversal of Roe v. Wade, 410 U.S. 113 (1973), pregnancy \\n        centers have wrongfully been the subject of vandalism and violence: Now, \\n        therefore, be it\\n    Resolved, That the House of Representatives--\\n            (1) expresses support for the recognition of ``National \\n        Pregnancy Center Week'';\\n            (2) supports the important work of pregnancy centers across \\n        the United States;\\n            (3) appreciates and recognizes the thousands of volunteers \\n        and staff of pregnancy centers in the United States who give \\n        millions of hours of service each year to women and men who are \\n        faced with difficult pregnancy decisions; and\\n            (4) recognizes the importance of--\\n                    (A) protecting life; and\\n                    (B) assisting women and men in need as they bring \\n                children into the world.\\n                                 <all>\\n\\n\"}"
      ]
     },
     "execution_count": 7,
     "metadata": {},
     "output_type": "execute_result"
    }
   ],
   "source": [
    "ct.get_billdata(billurl)"
   ]
  },
  {
   "cell_type": "code",
   "execution_count": null,
   "metadata": {},
   "outputs": [],
   "source": []
  }
 ],
 "metadata": {
  "kernelspec": {
   "display_name": "contrans_venv_3_12_5",
   "language": "python",
   "name": "python3"
  },
  "language_info": {
   "codemirror_mode": {
    "name": "ipython",
    "version": 3
   },
   "file_extension": ".py",
   "mimetype": "text/x-python",
   "name": "python",
   "nbconvert_exporter": "python",
   "pygments_lexer": "ipython3",
   "version": "3.12.5"
  }
 },
 "nbformat": 4,
 "nbformat_minor": 2
}
