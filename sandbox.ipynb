{
 "cells": [
  {
   "cell_type": "code",
   "execution_count": 5,
   "metadata": {},
   "outputs": [],
   "source": [
    "from contrans import contrans\n",
    "import numpy as np\n",
    "import pandas as pd\n",
    "import dotenv\n",
    "import os\n",
    "import json\n",
    "import requests \n",
    "import psycopg\n",
    "import sqlite3\n",
    "import plotly.express as px\n",
    "from sumy.parsers.plaintext import PlaintextParser\n",
    "from sumy.nlp.tokenizers import Tokenizer\n",
    "from sumy.summarizers.lsa import LsaSummarizer\n",
    "from sqlalchemy import create_engine    \n",
    "dotenv.load_dotenv()\n",
    "congresskey = os.getenv('congresskey')\n",
    "postgrespassword = os.getenv('POSTGRES_PASSWORD')"
   ]
  },
  {
   "cell_type": "code",
   "execution_count": 6,
   "metadata": {},
   "outputs": [],
   "source": [
    "ct = contrans()"
   ]
  },
  {
   "cell_type": "code",
   "execution_count": 7,
   "metadata": {},
   "outputs": [],
   "source": [
    "bills = ct.connect_to_mongo(host='localhost')"
   ]
  },
  {
   "cell_type": "code",
   "execution_count": 8,
   "metadata": {},
   "outputs": [
    {
     "data": {
      "text/plain": [
       "5285"
      ]
     },
     "execution_count": 8,
     "metadata": {},
     "output_type": "execute_result"
    }
   ],
   "source": [
    "bills.count_documents({})"
   ]
  },
  {
   "cell_type": "code",
   "execution_count": 9,
   "metadata": {},
   "outputs": [],
   "source": [
    "billdf = ct.query_mongo(bills, {}, {'bill.sponsors': 1,\n",
    "                            'bill_text': 1,\n",
    "                           '_id': 0})"
   ]
  },
  {
   "cell_type": "code",
   "execution_count": 10,
   "metadata": {},
   "outputs": [
    {
     "data": {
      "text/html": [
       "<div>\n",
       "<style scoped>\n",
       "    .dataframe tbody tr th:only-of-type {\n",
       "        vertical-align: middle;\n",
       "    }\n",
       "\n",
       "    .dataframe tbody tr th {\n",
       "        vertical-align: top;\n",
       "    }\n",
       "\n",
       "    .dataframe thead th {\n",
       "        text-align: right;\n",
       "    }\n",
       "</style>\n",
       "<table border=\"1\" class=\"dataframe\">\n",
       "  <thead>\n",
       "    <tr style=\"text-align: right;\">\n",
       "      <th></th>\n",
       "      <th>bill</th>\n",
       "      <th>bill_text</th>\n",
       "    </tr>\n",
       "  </thead>\n",
       "  <tbody>\n",
       "    <tr>\n",
       "      <th>0</th>\n",
       "      <td>{'sponsors': [{'bioguideId': 'N000188', 'distr...</td>\n",
       "      <td>\\n[Congressional Bills 118th Congress]\\n[From ...</td>\n",
       "    </tr>\n",
       "    <tr>\n",
       "      <th>1</th>\n",
       "      <td>{'sponsors': [{'bioguideId': 'N000188', 'distr...</td>\n",
       "      <td>\\n[Congressional Bills 118th Congress]\\n[From ...</td>\n",
       "    </tr>\n",
       "    <tr>\n",
       "      <th>2</th>\n",
       "      <td>{'sponsors': [{'bioguideId': 'N000188', 'distr...</td>\n",
       "      <td>\\n[Congressional Bills 118th Congress]\\n[From ...</td>\n",
       "    </tr>\n",
       "    <tr>\n",
       "      <th>3</th>\n",
       "      <td>{'sponsors': [{'bioguideId': 'N000188', 'distr...</td>\n",
       "      <td>\\n[Congressional Bills 118th Congress]\\n[From ...</td>\n",
       "    </tr>\n",
       "    <tr>\n",
       "      <th>4</th>\n",
       "      <td>{'sponsors': [{'bioguideId': 'N000188', 'distr...</td>\n",
       "      <td>\\n[Congressional Bills 118th Congress]\\n[From ...</td>\n",
       "    </tr>\n",
       "    <tr>\n",
       "      <th>...</th>\n",
       "      <td>...</td>\n",
       "      <td>...</td>\n",
       "    </tr>\n",
       "    <tr>\n",
       "      <th>5280</th>\n",
       "      <td>{'sponsors': [{'bioguideId': 'J000032', 'distr...</td>\n",
       "      <td>\\n[Congressional Bills 118th Congress]\\n[From ...</td>\n",
       "    </tr>\n",
       "    <tr>\n",
       "      <th>5281</th>\n",
       "      <td>{'sponsors': [{'bioguideId': 'J000032', 'distr...</td>\n",
       "      <td>\\n[Congressional Bills 118th Congress]\\n[From ...</td>\n",
       "    </tr>\n",
       "    <tr>\n",
       "      <th>5282</th>\n",
       "      <td>{'sponsors': [{'bioguideId': 'J000032', 'distr...</td>\n",
       "      <td>\\n[Congressional Bills 118th Congress]\\n[From ...</td>\n",
       "    </tr>\n",
       "    <tr>\n",
       "      <th>5283</th>\n",
       "      <td>{'sponsors': [{'bioguideId': 'J000032', 'distr...</td>\n",
       "      <td>\\n[Congressional Bills 118th Congress]\\n[From ...</td>\n",
       "    </tr>\n",
       "    <tr>\n",
       "      <th>5284</th>\n",
       "      <td>{'sponsors': [{'bioguideId': 'J000032', 'distr...</td>\n",
       "      <td>\\n[Congressional Bills 118th Congress]\\n[From ...</td>\n",
       "    </tr>\n",
       "  </tbody>\n",
       "</table>\n",
       "<p>5285 rows × 2 columns</p>\n",
       "</div>"
      ],
      "text/plain": [
       "                                                   bill  \\\n",
       "0     {'sponsors': [{'bioguideId': 'N000188', 'distr...   \n",
       "1     {'sponsors': [{'bioguideId': 'N000188', 'distr...   \n",
       "2     {'sponsors': [{'bioguideId': 'N000188', 'distr...   \n",
       "3     {'sponsors': [{'bioguideId': 'N000188', 'distr...   \n",
       "4     {'sponsors': [{'bioguideId': 'N000188', 'distr...   \n",
       "...                                                 ...   \n",
       "5280  {'sponsors': [{'bioguideId': 'J000032', 'distr...   \n",
       "5281  {'sponsors': [{'bioguideId': 'J000032', 'distr...   \n",
       "5282  {'sponsors': [{'bioguideId': 'J000032', 'distr...   \n",
       "5283  {'sponsors': [{'bioguideId': 'J000032', 'distr...   \n",
       "5284  {'sponsors': [{'bioguideId': 'J000032', 'distr...   \n",
       "\n",
       "                                              bill_text  \n",
       "0     \\n[Congressional Bills 118th Congress]\\n[From ...  \n",
       "1     \\n[Congressional Bills 118th Congress]\\n[From ...  \n",
       "2     \\n[Congressional Bills 118th Congress]\\n[From ...  \n",
       "3     \\n[Congressional Bills 118th Congress]\\n[From ...  \n",
       "4     \\n[Congressional Bills 118th Congress]\\n[From ...  \n",
       "...                                                 ...  \n",
       "5280  \\n[Congressional Bills 118th Congress]\\n[From ...  \n",
       "5281  \\n[Congressional Bills 118th Congress]\\n[From ...  \n",
       "5282  \\n[Congressional Bills 118th Congress]\\n[From ...  \n",
       "5283  \\n[Congressional Bills 118th Congress]\\n[From ...  \n",
       "5284  \\n[Congressional Bills 118th Congress]\\n[From ...  \n",
       "\n",
       "[5285 rows x 2 columns]"
      ]
     },
     "execution_count": 10,
     "metadata": {},
     "output_type": "execute_result"
    }
   ],
   "source": [
    "billdf"
   ]
  },
  {
   "cell_type": "code",
   "execution_count": 11,
   "metadata": {},
   "outputs": [
    {
     "data": {
      "text/html": [
       "<div>\n",
       "<style scoped>\n",
       "    .dataframe tbody tr th:only-of-type {\n",
       "        vertical-align: middle;\n",
       "    }\n",
       "\n",
       "    .dataframe tbody tr th {\n",
       "        vertical-align: top;\n",
       "    }\n",
       "\n",
       "    .dataframe thead th {\n",
       "        text-align: right;\n",
       "    }\n",
       "</style>\n",
       "<table border=\"1\" class=\"dataframe\">\n",
       "  <thead>\n",
       "    <tr style=\"text-align: right;\">\n",
       "      <th></th>\n",
       "      <th>bill_text</th>\n",
       "      <th>sponsor</th>\n",
       "    </tr>\n",
       "  </thead>\n",
       "  <tbody>\n",
       "    <tr>\n",
       "      <th>0</th>\n",
       "      <td>\\n[Congressional Bills 118th Congress]\\n[From ...</td>\n",
       "      <td>N000188</td>\n",
       "    </tr>\n",
       "    <tr>\n",
       "      <th>1</th>\n",
       "      <td>\\n[Congressional Bills 118th Congress]\\n[From ...</td>\n",
       "      <td>N000188</td>\n",
       "    </tr>\n",
       "    <tr>\n",
       "      <th>2</th>\n",
       "      <td>\\n[Congressional Bills 118th Congress]\\n[From ...</td>\n",
       "      <td>N000188</td>\n",
       "    </tr>\n",
       "    <tr>\n",
       "      <th>3</th>\n",
       "      <td>\\n[Congressional Bills 118th Congress]\\n[From ...</td>\n",
       "      <td>N000188</td>\n",
       "    </tr>\n",
       "    <tr>\n",
       "      <th>4</th>\n",
       "      <td>\\n[Congressional Bills 118th Congress]\\n[From ...</td>\n",
       "      <td>N000188</td>\n",
       "    </tr>\n",
       "    <tr>\n",
       "      <th>...</th>\n",
       "      <td>...</td>\n",
       "      <td>...</td>\n",
       "    </tr>\n",
       "    <tr>\n",
       "      <th>5280</th>\n",
       "      <td>\\n[Congressional Bills 118th Congress]\\n[From ...</td>\n",
       "      <td>J000032</td>\n",
       "    </tr>\n",
       "    <tr>\n",
       "      <th>5281</th>\n",
       "      <td>\\n[Congressional Bills 118th Congress]\\n[From ...</td>\n",
       "      <td>J000032</td>\n",
       "    </tr>\n",
       "    <tr>\n",
       "      <th>5282</th>\n",
       "      <td>\\n[Congressional Bills 118th Congress]\\n[From ...</td>\n",
       "      <td>J000032</td>\n",
       "    </tr>\n",
       "    <tr>\n",
       "      <th>5283</th>\n",
       "      <td>\\n[Congressional Bills 118th Congress]\\n[From ...</td>\n",
       "      <td>J000032</td>\n",
       "    </tr>\n",
       "    <tr>\n",
       "      <th>5284</th>\n",
       "      <td>\\n[Congressional Bills 118th Congress]\\n[From ...</td>\n",
       "      <td>J000032</td>\n",
       "    </tr>\n",
       "  </tbody>\n",
       "</table>\n",
       "<p>5285 rows × 2 columns</p>\n",
       "</div>"
      ],
      "text/plain": [
       "                                              bill_text  sponsor\n",
       "0     \\n[Congressional Bills 118th Congress]\\n[From ...  N000188\n",
       "1     \\n[Congressional Bills 118th Congress]\\n[From ...  N000188\n",
       "2     \\n[Congressional Bills 118th Congress]\\n[From ...  N000188\n",
       "3     \\n[Congressional Bills 118th Congress]\\n[From ...  N000188\n",
       "4     \\n[Congressional Bills 118th Congress]\\n[From ...  N000188\n",
       "...                                                 ...      ...\n",
       "5280  \\n[Congressional Bills 118th Congress]\\n[From ...  J000032\n",
       "5281  \\n[Congressional Bills 118th Congress]\\n[From ...  J000032\n",
       "5282  \\n[Congressional Bills 118th Congress]\\n[From ...  J000032\n",
       "5283  \\n[Congressional Bills 118th Congress]\\n[From ...  J000032\n",
       "5284  \\n[Congressional Bills 118th Congress]\\n[From ...  J000032\n",
       "\n",
       "[5285 rows x 2 columns]"
      ]
     },
     "execution_count": 11,
     "metadata": {},
     "output_type": "execute_result"
    }
   ],
   "source": [
    "billdf['sponsor'] = [x['sponsors'][0]['bioguideId'] for x in billdf['bill']]\n",
    "billdf.drop('bill', axis=1, inplace=True)\n",
    "billdf"
   ]
  },
  {
   "cell_type": "code",
   "execution_count": 13,
   "metadata": {},
   "outputs": [],
   "source": [
    "billdf = billdf.groupby(['sponsor'])['bill_text'].apply(' '.join).reset_index()"
   ]
  },
  {
   "cell_type": "code",
   "execution_count": 15,
   "metadata": {},
   "outputs": [
    {
     "data": {
      "text/html": [
       "<div>\n",
       "<style scoped>\n",
       "    .dataframe tbody tr th:only-of-type {\n",
       "        vertical-align: middle;\n",
       "    }\n",
       "\n",
       "    .dataframe tbody tr th {\n",
       "        vertical-align: top;\n",
       "    }\n",
       "\n",
       "    .dataframe thead th {\n",
       "        text-align: right;\n",
       "    }\n",
       "</style>\n",
       "<table border=\"1\" class=\"dataframe\">\n",
       "  <thead>\n",
       "    <tr style=\"text-align: right;\">\n",
       "      <th></th>\n",
       "      <th>bill_text</th>\n",
       "    </tr>\n",
       "    <tr>\n",
       "      <th>sponsor</th>\n",
       "      <th></th>\n",
       "    </tr>\n",
       "  </thead>\n",
       "  <tbody>\n",
       "    <tr>\n",
       "      <th>B001230</th>\n",
       "      <td>\\n[Congressional Bills 118th Congress]\\n[From ...</td>\n",
       "    </tr>\n",
       "    <tr>\n",
       "      <th>B001236</th>\n",
       "      <td>\\n[Congressional Bills 118th Congress]\\n[From ...</td>\n",
       "    </tr>\n",
       "    <tr>\n",
       "      <th>B001261</th>\n",
       "      <td>\\n[Congressional Bills 118th Congress]\\n[From ...</td>\n",
       "    </tr>\n",
       "    <tr>\n",
       "      <th>B001267</th>\n",
       "      <td>\\n[Congressional Bills 118th Congress]\\n[From ...</td>\n",
       "    </tr>\n",
       "    <tr>\n",
       "      <th>B001288</th>\n",
       "      <td>\\n[Congressional Bills 118th Congress]\\n[From ...</td>\n",
       "    </tr>\n",
       "    <tr>\n",
       "      <th>...</th>\n",
       "      <td>...</td>\n",
       "    </tr>\n",
       "    <tr>\n",
       "      <th>W000800</th>\n",
       "      <td>\\n[Congressional Bills 118th Congress]\\n[From ...</td>\n",
       "    </tr>\n",
       "    <tr>\n",
       "      <th>W000802</th>\n",
       "      <td>\\n[Congressional Bills 118th Congress]\\n[From ...</td>\n",
       "    </tr>\n",
       "    <tr>\n",
       "      <th>W000805</th>\n",
       "      <td>\\n[Congressional Bills 118th Congress]\\n[From ...</td>\n",
       "    </tr>\n",
       "    <tr>\n",
       "      <th>W000817</th>\n",
       "      <td>\\n[Congressional Bills 118th Congress]\\n[From ...</td>\n",
       "    </tr>\n",
       "    <tr>\n",
       "      <th>Y000064</th>\n",
       "      <td>\\n[Congressional Bills 118th Congress]\\n[From ...</td>\n",
       "    </tr>\n",
       "  </tbody>\n",
       "</table>\n",
       "<p>95 rows × 1 columns</p>\n",
       "</div>"
      ],
      "text/plain": [
       "                                                 bill_text\n",
       "sponsor                                                   \n",
       "B001230  \\n[Congressional Bills 118th Congress]\\n[From ...\n",
       "B001236  \\n[Congressional Bills 118th Congress]\\n[From ...\n",
       "B001261  \\n[Congressional Bills 118th Congress]\\n[From ...\n",
       "B001267  \\n[Congressional Bills 118th Congress]\\n[From ...\n",
       "B001288  \\n[Congressional Bills 118th Congress]\\n[From ...\n",
       "...                                                    ...\n",
       "W000800  \\n[Congressional Bills 118th Congress]\\n[From ...\n",
       "W000802  \\n[Congressional Bills 118th Congress]\\n[From ...\n",
       "W000805  \\n[Congressional Bills 118th Congress]\\n[From ...\n",
       "W000817  \\n[Congressional Bills 118th Congress]\\n[From ...\n",
       "Y000064  \\n[Congressional Bills 118th Congress]\\n[From ...\n",
       "\n",
       "[95 rows x 1 columns]"
      ]
     },
     "execution_count": 15,
     "metadata": {},
     "output_type": "execute_result"
    }
   ],
   "source": [
    "billdf = billdf.set_index('sponsor')\n",
    "\n",
    "billdf"
   ]
  },
  {
   "cell_type": "code",
   "execution_count": 16,
   "metadata": {},
   "outputs": [],
   "source": [
    "from sklearn.feature_extraction.text import TfidfTransformer, TfidfVectorizer\n",
    "tfIdfVectorizer= TfidfVectorizer(stop_words='english', \n",
    "                                 max_df = .8, \n",
    "                                 ngram_range = (1,3))\n",
    "tfIdf = tfIdfVectorizer.fit_transform(billdf['bill_text'])"
   ]
  },
  {
   "cell_type": "code",
   "execution_count": 18,
   "metadata": {},
   "outputs": [
    {
     "name": "stdout",
     "output_type": "stream",
     "text": [
      "Now working on 94 of 95\r"
     ]
    }
   ],
   "source": [
    "charwords = pd.DataFrame()\n",
    "for t in range(0,tfIdf.shape[0]):\n",
    "    print(f'Now working on {t} of {tfIdf.shape[0]}', end=\"\\r\")\n",
    "    df = pd.DataFrame(tfIdf[t].T.todense(), index=tfIdfVectorizer.get_feature_names_out(), columns=[\"TF-IDF\"])\n",
    "    df = df.sort_values('TF-IDF', ascending=False).reset_index().head(10)\n",
    "    df = df.rename({'index':'word', 'TF-IDF':'tf_idf'}, axis=1)\n",
    "    df['sponsor_id'] = billdf.index[t]\n",
    "    charwords = pd.concat([charwords, df], ignore_index=True)"
   ]
  },
  {
   "cell_type": "code",
   "execution_count": 19,
   "metadata": {},
   "outputs": [
    {
     "data": {
      "text/html": [
       "<div>\n",
       "<style scoped>\n",
       "    .dataframe tbody tr th:only-of-type {\n",
       "        vertical-align: middle;\n",
       "    }\n",
       "\n",
       "    .dataframe tbody tr th {\n",
       "        vertical-align: top;\n",
       "    }\n",
       "\n",
       "    .dataframe thead th {\n",
       "        text-align: right;\n",
       "    }\n",
       "</style>\n",
       "<table border=\"1\" class=\"dataframe\">\n",
       "  <thead>\n",
       "    <tr style=\"text-align: right;\">\n",
       "      <th></th>\n",
       "      <th>word</th>\n",
       "      <th>tf_idf</th>\n",
       "      <th>sponsor_id</th>\n",
       "    </tr>\n",
       "  </thead>\n",
       "  <tbody>\n",
       "    <tr>\n",
       "      <th>0</th>\n",
       "      <td>apprenticeship</td>\n",
       "      <td>0.314454</td>\n",
       "      <td>B001230</td>\n",
       "    </tr>\n",
       "    <tr>\n",
       "      <th>1</th>\n",
       "      <td>phs act</td>\n",
       "      <td>0.251474</td>\n",
       "      <td>B001230</td>\n",
       "    </tr>\n",
       "    <tr>\n",
       "      <th>2</th>\n",
       "      <td>phs</td>\n",
       "      <td>0.215691</td>\n",
       "      <td>B001230</td>\n",
       "    </tr>\n",
       "    <tr>\n",
       "      <th>3</th>\n",
       "      <td>000 shall</td>\n",
       "      <td>0.112240</td>\n",
       "      <td>B001230</td>\n",
       "    </tr>\n",
       "    <tr>\n",
       "      <th>4</th>\n",
       "      <td>state apprenticeship</td>\n",
       "      <td>0.106539</td>\n",
       "      <td>B001230</td>\n",
       "    </tr>\n",
       "    <tr>\n",
       "      <th>...</th>\n",
       "      <td>...</td>\n",
       "      <td>...</td>\n",
       "      <td>...</td>\n",
       "    </tr>\n",
       "    <tr>\n",
       "      <th>945</th>\n",
       "      <td>share agreement</td>\n",
       "      <td>0.152781</td>\n",
       "      <td>Y000064</td>\n",
       "    </tr>\n",
       "    <tr>\n",
       "      <th>946</th>\n",
       "      <td>educational isa</td>\n",
       "      <td>0.133392</td>\n",
       "      <td>Y000064</td>\n",
       "    </tr>\n",
       "    <tr>\n",
       "      <th>947</th>\n",
       "      <td>additional district</td>\n",
       "      <td>0.094663</td>\n",
       "      <td>Y000064</td>\n",
       "    </tr>\n",
       "    <tr>\n",
       "      <th>948</th>\n",
       "      <td>additional district judge</td>\n",
       "      <td>0.075636</td>\n",
       "      <td>Y000064</td>\n",
       "    </tr>\n",
       "    <tr>\n",
       "      <th>949</th>\n",
       "      <td>income share agreements</td>\n",
       "      <td>0.072651</td>\n",
       "      <td>Y000064</td>\n",
       "    </tr>\n",
       "  </tbody>\n",
       "</table>\n",
       "<p>950 rows × 3 columns</p>\n",
       "</div>"
      ],
      "text/plain": [
       "                          word    tf_idf sponsor_id\n",
       "0               apprenticeship  0.314454    B001230\n",
       "1                      phs act  0.251474    B001230\n",
       "2                          phs  0.215691    B001230\n",
       "3                    000 shall  0.112240    B001230\n",
       "4         state apprenticeship  0.106539    B001230\n",
       "..                         ...       ...        ...\n",
       "945            share agreement  0.152781    Y000064\n",
       "946            educational isa  0.133392    Y000064\n",
       "947        additional district  0.094663    Y000064\n",
       "948  additional district judge  0.075636    Y000064\n",
       "949    income share agreements  0.072651    Y000064\n",
       "\n",
       "[950 rows x 3 columns]"
      ]
     },
     "execution_count": 19,
     "metadata": {},
     "output_type": "execute_result"
    }
   ],
   "source": [
    "charwords"
   ]
  },
  {
   "cell_type": "code",
   "execution_count": 3,
   "metadata": {},
   "outputs": [
    {
     "data": {
      "application/vnd.plotly.v1+json": {
       "config": {
        "plotlyServerURL": "https://plot.ly"
       },
       "data": [
        {
         "alignmentgroup": "True",
         "bingroup": "x",
         "hovertemplate": "partyname=Democratic<br>nominate_dim1=%{x}<br>count=%{y}<extra></extra>",
         "legendgroup": "Democratic",
         "marker": {
          "color": "#636efa",
          "pattern": {
           "shape": ""
          }
         },
         "name": "Democratic",
         "nbinsx": 60,
         "offsetgroup": "Democratic",
         "orientation": "v",
         "showlegend": true,
         "type": "histogram",
         "x": [
          -0.419,
          null,
          null,
          null,
          null,
          null,
          null,
          null,
          null,
          null,
          null,
          null,
          null,
          null,
          null,
          null,
          null,
          null,
          null,
          null,
          null,
          null,
          null,
          null,
          null,
          null,
          null,
          null,
          null,
          null,
          null,
          null,
          null,
          null,
          null,
          null,
          null,
          null,
          null,
          null,
          null,
          null,
          null,
          null,
          null,
          null,
          null,
          null,
          -0.398,
          -0.476,
          null,
          -0.256,
          -0.452,
          -0.339,
          -0.538,
          -0.466,
          -0.422,
          -0.371,
          -0.082,
          -0.459,
          -0.282,
          -0.384,
          -0.197,
          -0.628,
          -0.451,
          -0.39,
          -0.525,
          -0.316,
          -0.292,
          -0.308,
          -0.29,
          -0.522,
          -0.365,
          -0.551,
          -0.499,
          -0.402,
          -0.426,
          -0.783,
          -0.482,
          -0.486,
          -0.385,
          -0.407,
          -0.398,
          -0.392,
          -0.45,
          -0.226,
          -0.444,
          -0.402,
          -0.327,
          -0.205,
          -0.34,
          -0.414,
          -0.213,
          -0.227,
          -0.239,
          -0.238,
          -0.445,
          -0.357,
          -0.259,
          -0.44,
          -0.26,
          -0.335,
          -0.438,
          -0.466,
          -0.389,
          -0.344,
          -0.436,
          -0.397,
          -0.415,
          -0.426,
          -0.346,
          -0.301,
          -0.242,
          -0.494,
          -0.261,
          -0.432,
          -0.458,
          -0.321,
          -0.275,
          -0.354,
          -0.314,
          -0.232,
          -0.232,
          -0.344,
          -0.238,
          -0.538,
          -0.223,
          -0.161,
          -0.595,
          -0.463,
          -0.486,
          -0.325,
          -0.264,
          -0.606,
          -0.299,
          -0.402,
          -0.415,
          -0.546,
          -0.507,
          -0.346,
          -0.253,
          -0.493,
          -0.525,
          -0.269,
          -0.405,
          -0.247,
          -0.306,
          -0.101,
          -0.296,
          -0.279,
          -0.267,
          -0.29,
          -0.388,
          -0.326,
          -0.346,
          -0.349,
          -0.434,
          -0.515,
          -0.399,
          -0.283,
          -0.485,
          -0.359,
          -0.331,
          -0.419,
          -0.466,
          -0.421,
          -0.538,
          -0.518,
          -0.418,
          -0.444,
          -0.453,
          -0.299,
          -0.347,
          -0.419,
          -0.382,
          -0.47,
          -0.247,
          -0.496,
          -0.546,
          -0.385,
          -0.325,
          -0.532,
          -0.311,
          -0.278,
          -0.606,
          -0.652,
          -0.435,
          -0.345,
          -0.338,
          -0.193,
          -0.326,
          -0.236,
          -0.434,
          -0.471,
          -0.602,
          -0.486,
          -0.303,
          -0.204,
          -0.36,
          -0.23,
          -0.376,
          -0.262,
          -0.464,
          -0.418,
          -0.395,
          -0.316,
          -0.336,
          -0.422,
          -0.326,
          -0.235,
          -0.349,
          -0.355,
          -0.281,
          -0.5,
          -0.396,
          -0.192,
          -0.395,
          -0.459,
          -0.477,
          -0.476,
          -0.438,
          -0.339,
          -0.242,
          -0.397,
          -0.431,
          -0.656,
          -0.287,
          -0.491,
          -0.416,
          -0.415,
          -0.545,
          -0.329,
          -0.28,
          -0.539,
          -0.32,
          -0.29,
          -0.475,
          -0.371,
          -0.372,
          -0.317,
          -0.513,
          -0.397,
          -0.39,
          -0.3,
          -0.358,
          -0.245,
          -0.431,
          -0.312,
          -0.483,
          -0.434,
          -0.49,
          -0.448,
          -0.393,
          -0.343,
          -0.676,
          -0.197,
          -0.598,
          -0.508,
          -0.35,
          -0.379,
          -0.135,
          -0.402
         ],
         "xaxis": "x",
         "yaxis": "y"
        },
        {
         "alignmentgroup": "True",
         "bingroup": "x",
         "hovertemplate": "partyname=Republican<br>nominate_dim1=%{x}<br>count=%{y}<extra></extra>",
         "legendgroup": "Republican",
         "marker": {
          "color": "#EF553B",
          "pattern": {
           "shape": ""
          }
         },
         "name": "Republican",
         "nbinsx": 60,
         "offsetgroup": "Republican",
         "orientation": "v",
         "showlegend": true,
         "type": "histogram",
         "x": [
          null,
          null,
          null,
          null,
          null,
          null,
          null,
          null,
          null,
          null,
          null,
          null,
          null,
          null,
          null,
          null,
          null,
          null,
          null,
          null,
          null,
          null,
          null,
          null,
          null,
          null,
          null,
          null,
          null,
          null,
          null,
          null,
          null,
          null,
          null,
          null,
          null,
          null,
          null,
          null,
          null,
          null,
          null,
          null,
          null,
          null,
          null,
          null,
          null,
          0.868,
          0.466,
          0.258,
          0.407,
          0.397,
          0.472,
          0.745,
          0.377,
          0.666,
          0.8,
          0.599,
          0.641,
          0.524,
          0.417,
          0.715,
          0.568,
          0.597,
          0.318,
          0.514,
          0.436,
          0.423,
          0.827,
          0.782,
          0.58,
          0.612,
          0.593,
          0.518,
          0.515,
          0.603,
          0.638,
          0.452,
          0.611,
          0.366,
          0.336,
          0.78,
          0.673,
          0.339,
          0.716,
          0.8,
          0.726,
          0.433,
          0.669,
          0.667,
          0.663,
          0.465,
          0.599,
          0.684,
          0.447,
          0.848,
          0.641,
          0.541,
          0.712,
          0.596,
          0.726,
          0.448,
          0.579,
          0.432,
          0.697,
          0.585,
          0.403,
          0.412,
          0.486,
          0.565,
          0.53,
          0.314,
          0.249,
          0.388,
          0.187,
          0.417,
          0.166,
          0.831,
          0.412,
          0.478,
          0.444,
          0.574,
          0.492,
          0.683,
          0.46,
          0.221,
          0.452,
          0.138,
          0.463,
          0.658,
          0.305,
          0.68,
          0.251,
          0.527,
          0.509,
          0.378,
          0.716,
          0.335,
          0.361,
          0.323,
          0.267,
          0.253,
          0.194,
          0.376,
          0.24,
          0.462,
          0.339,
          0.244,
          0.704,
          0.382,
          0.449,
          0.286,
          0.566,
          0.523,
          0.385,
          0.511,
          0.18,
          0.524,
          0.624,
          0.31,
          0.558,
          0.709,
          0.593,
          0.549,
          0.751,
          0.552,
          0.54,
          0.485,
          0.529,
          0.383,
          0.432,
          0.638,
          0.438,
          0.467,
          0.448,
          0.39,
          0.577,
          0.534,
          0.67,
          0.5,
          0.45,
          0.448,
          0.29,
          0.443,
          0.885,
          0.634,
          0.673,
          0.511,
          0.425,
          0.484,
          0.336,
          0.79,
          0.602,
          0.468,
          0.348,
          0.8,
          0.47,
          0.822,
          0.501,
          0.444,
          0.64,
          0.644,
          0.566,
          0.624,
          0.646,
          0.594,
          0.46,
          0.426,
          0.398,
          0.69,
          0.681,
          0.486,
          0.678,
          0.38,
          0.535,
          0.428,
          0.559,
          0.296,
          0.333,
          0.598,
          0.576,
          0.407,
          0.656,
          0.254,
          0.37,
          0.271,
          0.331,
          0.621,
          0.646,
          0.589,
          0.74,
          0.691,
          0.452,
          0.585,
          0.462,
          0.432,
          0.506,
          0.593,
          0.556,
          0.522,
          0.362,
          0.423,
          0.665,
          0.534,
          0.281,
          0.478,
          0.339,
          0.255,
          0.334,
          0.288,
          0.316,
          0.356,
          0.616,
          0.82,
          0.546,
          0.325,
          0.258,
          0.541,
          0.555,
          0.702,
          0.675,
          0.622,
          0.55,
          0.641,
          0.437,
          0.677,
          0.347,
          0.46,
          0.405,
          0.379,
          0.499
         ],
         "xaxis": "x",
         "yaxis": "y"
        },
        {
         "alignmentgroup": "True",
         "bingroup": "x",
         "hovertemplate": "partyname=Independent<br>nominate_dim1=%{x}<br>count=%{y}<extra></extra>",
         "legendgroup": "Independent",
         "marker": {
          "color": "#00cc96",
          "pattern": {
           "shape": ""
          }
         },
         "name": "Independent",
         "nbinsx": 60,
         "offsetgroup": "Independent",
         "orientation": "v",
         "showlegend": true,
         "type": "histogram",
         "x": [
          null,
          null,
          null,
          null
         ],
         "xaxis": "x",
         "yaxis": "y"
        }
       ],
       "layout": {
        "annotations": [
         {
          "font": {
           "color": "red",
           "size": 12
          },
          "showarrow": false,
          "text": "Norcross, Donald (NJ-01)",
          "x": -0.419,
          "xref": "x",
          "y": 1.05,
          "yref": "paper"
         }
        ],
        "barmode": "relative",
        "hovermode": "closest",
        "legend": {
         "title": {
          "text": "Party"
         },
         "tracegroupgap": 0
        },
        "shapes": [
         {
          "line": {
           "color": "black",
           "width": 1
          },
          "type": "line",
          "x0": 0,
          "x1": 0,
          "xref": "x",
          "y0": 0,
          "y1": 1,
          "yref": "y domain"
         },
         {
          "line": {
           "color": "red",
           "dash": "dash",
           "width": 3
          },
          "type": "line",
          "x0": -0.419,
          "x1": -0.419,
          "xref": "x",
          "y0": 0,
          "y1": 1,
          "yref": "y domain"
         }
        ],
        "template": {
         "data": {
          "bar": [
           {
            "error_x": {
             "color": "#2a3f5f"
            },
            "error_y": {
             "color": "#2a3f5f"
            },
            "marker": {
             "line": {
              "color": "#E5ECF6",
              "width": 0.5
             },
             "pattern": {
              "fillmode": "overlay",
              "size": 10,
              "solidity": 0.2
             }
            },
            "type": "bar"
           }
          ],
          "barpolar": [
           {
            "marker": {
             "line": {
              "color": "#E5ECF6",
              "width": 0.5
             },
             "pattern": {
              "fillmode": "overlay",
              "size": 10,
              "solidity": 0.2
             }
            },
            "type": "barpolar"
           }
          ],
          "carpet": [
           {
            "aaxis": {
             "endlinecolor": "#2a3f5f",
             "gridcolor": "white",
             "linecolor": "white",
             "minorgridcolor": "white",
             "startlinecolor": "#2a3f5f"
            },
            "baxis": {
             "endlinecolor": "#2a3f5f",
             "gridcolor": "white",
             "linecolor": "white",
             "minorgridcolor": "white",
             "startlinecolor": "#2a3f5f"
            },
            "type": "carpet"
           }
          ],
          "choropleth": [
           {
            "colorbar": {
             "outlinewidth": 0,
             "ticks": ""
            },
            "type": "choropleth"
           }
          ],
          "contour": [
           {
            "colorbar": {
             "outlinewidth": 0,
             "ticks": ""
            },
            "colorscale": [
             [
              0,
              "#0d0887"
             ],
             [
              0.1111111111111111,
              "#46039f"
             ],
             [
              0.2222222222222222,
              "#7201a8"
             ],
             [
              0.3333333333333333,
              "#9c179e"
             ],
             [
              0.4444444444444444,
              "#bd3786"
             ],
             [
              0.5555555555555556,
              "#d8576b"
             ],
             [
              0.6666666666666666,
              "#ed7953"
             ],
             [
              0.7777777777777778,
              "#fb9f3a"
             ],
             [
              0.8888888888888888,
              "#fdca26"
             ],
             [
              1,
              "#f0f921"
             ]
            ],
            "type": "contour"
           }
          ],
          "contourcarpet": [
           {
            "colorbar": {
             "outlinewidth": 0,
             "ticks": ""
            },
            "type": "contourcarpet"
           }
          ],
          "heatmap": [
           {
            "colorbar": {
             "outlinewidth": 0,
             "ticks": ""
            },
            "colorscale": [
             [
              0,
              "#0d0887"
             ],
             [
              0.1111111111111111,
              "#46039f"
             ],
             [
              0.2222222222222222,
              "#7201a8"
             ],
             [
              0.3333333333333333,
              "#9c179e"
             ],
             [
              0.4444444444444444,
              "#bd3786"
             ],
             [
              0.5555555555555556,
              "#d8576b"
             ],
             [
              0.6666666666666666,
              "#ed7953"
             ],
             [
              0.7777777777777778,
              "#fb9f3a"
             ],
             [
              0.8888888888888888,
              "#fdca26"
             ],
             [
              1,
              "#f0f921"
             ]
            ],
            "type": "heatmap"
           }
          ],
          "heatmapgl": [
           {
            "colorbar": {
             "outlinewidth": 0,
             "ticks": ""
            },
            "colorscale": [
             [
              0,
              "#0d0887"
             ],
             [
              0.1111111111111111,
              "#46039f"
             ],
             [
              0.2222222222222222,
              "#7201a8"
             ],
             [
              0.3333333333333333,
              "#9c179e"
             ],
             [
              0.4444444444444444,
              "#bd3786"
             ],
             [
              0.5555555555555556,
              "#d8576b"
             ],
             [
              0.6666666666666666,
              "#ed7953"
             ],
             [
              0.7777777777777778,
              "#fb9f3a"
             ],
             [
              0.8888888888888888,
              "#fdca26"
             ],
             [
              1,
              "#f0f921"
             ]
            ],
            "type": "heatmapgl"
           }
          ],
          "histogram": [
           {
            "marker": {
             "pattern": {
              "fillmode": "overlay",
              "size": 10,
              "solidity": 0.2
             }
            },
            "type": "histogram"
           }
          ],
          "histogram2d": [
           {
            "colorbar": {
             "outlinewidth": 0,
             "ticks": ""
            },
            "colorscale": [
             [
              0,
              "#0d0887"
             ],
             [
              0.1111111111111111,
              "#46039f"
             ],
             [
              0.2222222222222222,
              "#7201a8"
             ],
             [
              0.3333333333333333,
              "#9c179e"
             ],
             [
              0.4444444444444444,
              "#bd3786"
             ],
             [
              0.5555555555555556,
              "#d8576b"
             ],
             [
              0.6666666666666666,
              "#ed7953"
             ],
             [
              0.7777777777777778,
              "#fb9f3a"
             ],
             [
              0.8888888888888888,
              "#fdca26"
             ],
             [
              1,
              "#f0f921"
             ]
            ],
            "type": "histogram2d"
           }
          ],
          "histogram2dcontour": [
           {
            "colorbar": {
             "outlinewidth": 0,
             "ticks": ""
            },
            "colorscale": [
             [
              0,
              "#0d0887"
             ],
             [
              0.1111111111111111,
              "#46039f"
             ],
             [
              0.2222222222222222,
              "#7201a8"
             ],
             [
              0.3333333333333333,
              "#9c179e"
             ],
             [
              0.4444444444444444,
              "#bd3786"
             ],
             [
              0.5555555555555556,
              "#d8576b"
             ],
             [
              0.6666666666666666,
              "#ed7953"
             ],
             [
              0.7777777777777778,
              "#fb9f3a"
             ],
             [
              0.8888888888888888,
              "#fdca26"
             ],
             [
              1,
              "#f0f921"
             ]
            ],
            "type": "histogram2dcontour"
           }
          ],
          "mesh3d": [
           {
            "colorbar": {
             "outlinewidth": 0,
             "ticks": ""
            },
            "type": "mesh3d"
           }
          ],
          "parcoords": [
           {
            "line": {
             "colorbar": {
              "outlinewidth": 0,
              "ticks": ""
             }
            },
            "type": "parcoords"
           }
          ],
          "pie": [
           {
            "automargin": true,
            "type": "pie"
           }
          ],
          "scatter": [
           {
            "fillpattern": {
             "fillmode": "overlay",
             "size": 10,
             "solidity": 0.2
            },
            "type": "scatter"
           }
          ],
          "scatter3d": [
           {
            "line": {
             "colorbar": {
              "outlinewidth": 0,
              "ticks": ""
             }
            },
            "marker": {
             "colorbar": {
              "outlinewidth": 0,
              "ticks": ""
             }
            },
            "type": "scatter3d"
           }
          ],
          "scattercarpet": [
           {
            "marker": {
             "colorbar": {
              "outlinewidth": 0,
              "ticks": ""
             }
            },
            "type": "scattercarpet"
           }
          ],
          "scattergeo": [
           {
            "marker": {
             "colorbar": {
              "outlinewidth": 0,
              "ticks": ""
             }
            },
            "type": "scattergeo"
           }
          ],
          "scattergl": [
           {
            "marker": {
             "colorbar": {
              "outlinewidth": 0,
              "ticks": ""
             }
            },
            "type": "scattergl"
           }
          ],
          "scattermapbox": [
           {
            "marker": {
             "colorbar": {
              "outlinewidth": 0,
              "ticks": ""
             }
            },
            "type": "scattermapbox"
           }
          ],
          "scatterpolar": [
           {
            "marker": {
             "colorbar": {
              "outlinewidth": 0,
              "ticks": ""
             }
            },
            "type": "scatterpolar"
           }
          ],
          "scatterpolargl": [
           {
            "marker": {
             "colorbar": {
              "outlinewidth": 0,
              "ticks": ""
             }
            },
            "type": "scatterpolargl"
           }
          ],
          "scatterternary": [
           {
            "marker": {
             "colorbar": {
              "outlinewidth": 0,
              "ticks": ""
             }
            },
            "type": "scatterternary"
           }
          ],
          "surface": [
           {
            "colorbar": {
             "outlinewidth": 0,
             "ticks": ""
            },
            "colorscale": [
             [
              0,
              "#0d0887"
             ],
             [
              0.1111111111111111,
              "#46039f"
             ],
             [
              0.2222222222222222,
              "#7201a8"
             ],
             [
              0.3333333333333333,
              "#9c179e"
             ],
             [
              0.4444444444444444,
              "#bd3786"
             ],
             [
              0.5555555555555556,
              "#d8576b"
             ],
             [
              0.6666666666666666,
              "#ed7953"
             ],
             [
              0.7777777777777778,
              "#fb9f3a"
             ],
             [
              0.8888888888888888,
              "#fdca26"
             ],
             [
              1,
              "#f0f921"
             ]
            ],
            "type": "surface"
           }
          ],
          "table": [
           {
            "cells": {
             "fill": {
              "color": "#EBF0F8"
             },
             "line": {
              "color": "white"
             }
            },
            "header": {
             "fill": {
              "color": "#C8D4E3"
             },
             "line": {
              "color": "white"
             }
            },
            "type": "table"
           }
          ]
         },
         "layout": {
          "annotationdefaults": {
           "arrowcolor": "#2a3f5f",
           "arrowhead": 0,
           "arrowwidth": 1
          },
          "autotypenumbers": "strict",
          "coloraxis": {
           "colorbar": {
            "outlinewidth": 0,
            "ticks": ""
           }
          },
          "colorscale": {
           "diverging": [
            [
             0,
             "#8e0152"
            ],
            [
             0.1,
             "#c51b7d"
            ],
            [
             0.2,
             "#de77ae"
            ],
            [
             0.3,
             "#f1b6da"
            ],
            [
             0.4,
             "#fde0ef"
            ],
            [
             0.5,
             "#f7f7f7"
            ],
            [
             0.6,
             "#e6f5d0"
            ],
            [
             0.7,
             "#b8e186"
            ],
            [
             0.8,
             "#7fbc41"
            ],
            [
             0.9,
             "#4d9221"
            ],
            [
             1,
             "#276419"
            ]
           ],
           "sequential": [
            [
             0,
             "#0d0887"
            ],
            [
             0.1111111111111111,
             "#46039f"
            ],
            [
             0.2222222222222222,
             "#7201a8"
            ],
            [
             0.3333333333333333,
             "#9c179e"
            ],
            [
             0.4444444444444444,
             "#bd3786"
            ],
            [
             0.5555555555555556,
             "#d8576b"
            ],
            [
             0.6666666666666666,
             "#ed7953"
            ],
            [
             0.7777777777777778,
             "#fb9f3a"
            ],
            [
             0.8888888888888888,
             "#fdca26"
            ],
            [
             1,
             "#f0f921"
            ]
           ],
           "sequentialminus": [
            [
             0,
             "#0d0887"
            ],
            [
             0.1111111111111111,
             "#46039f"
            ],
            [
             0.2222222222222222,
             "#7201a8"
            ],
            [
             0.3333333333333333,
             "#9c179e"
            ],
            [
             0.4444444444444444,
             "#bd3786"
            ],
            [
             0.5555555555555556,
             "#d8576b"
            ],
            [
             0.6666666666666666,
             "#ed7953"
            ],
            [
             0.7777777777777778,
             "#fb9f3a"
            ],
            [
             0.8888888888888888,
             "#fdca26"
            ],
            [
             1,
             "#f0f921"
            ]
           ]
          },
          "colorway": [
           "#636efa",
           "#EF553B",
           "#00cc96",
           "#ab63fa",
           "#FFA15A",
           "#19d3f3",
           "#FF6692",
           "#B6E880",
           "#FF97FF",
           "#FECB52"
          ],
          "font": {
           "color": "#2a3f5f"
          },
          "geo": {
           "bgcolor": "white",
           "lakecolor": "white",
           "landcolor": "#E5ECF6",
           "showlakes": true,
           "showland": true,
           "subunitcolor": "white"
          },
          "hoverlabel": {
           "align": "left"
          },
          "hovermode": "closest",
          "mapbox": {
           "style": "light"
          },
          "paper_bgcolor": "white",
          "plot_bgcolor": "#E5ECF6",
          "polar": {
           "angularaxis": {
            "gridcolor": "white",
            "linecolor": "white",
            "ticks": ""
           },
           "bgcolor": "#E5ECF6",
           "radialaxis": {
            "gridcolor": "white",
            "linecolor": "white",
            "ticks": ""
           }
          },
          "scene": {
           "xaxis": {
            "backgroundcolor": "#E5ECF6",
            "gridcolor": "white",
            "gridwidth": 2,
            "linecolor": "white",
            "showbackground": true,
            "ticks": "",
            "zerolinecolor": "white"
           },
           "yaxis": {
            "backgroundcolor": "#E5ECF6",
            "gridcolor": "white",
            "gridwidth": 2,
            "linecolor": "white",
            "showbackground": true,
            "ticks": "",
            "zerolinecolor": "white"
           },
           "zaxis": {
            "backgroundcolor": "#E5ECF6",
            "gridcolor": "white",
            "gridwidth": 2,
            "linecolor": "white",
            "showbackground": true,
            "ticks": "",
            "zerolinecolor": "white"
           }
          },
          "shapedefaults": {
           "line": {
            "color": "#2a3f5f"
           }
          },
          "ternary": {
           "aaxis": {
            "gridcolor": "white",
            "linecolor": "white",
            "ticks": ""
           },
           "baxis": {
            "gridcolor": "white",
            "linecolor": "white",
            "ticks": ""
           },
           "bgcolor": "#E5ECF6",
           "caxis": {
            "gridcolor": "white",
            "linecolor": "white",
            "ticks": ""
           }
          },
          "title": {
           "x": 0.05
          },
          "xaxis": {
           "automargin": true,
           "gridcolor": "white",
           "linecolor": "white",
           "ticks": "",
           "title": {
            "standoff": 15
           },
           "zerolinecolor": "white",
           "zerolinewidth": 2
          },
          "yaxis": {
           "automargin": true,
           "gridcolor": "white",
           "linecolor": "white",
           "ticks": "",
           "title": {
            "standoff": 15
           },
           "zerolinecolor": "white",
           "zerolinewidth": 2
          }
         }
        },
        "title": {
         "text": "How Liberal or Conservative Is this Person?",
         "x": 0.5
        },
        "xaxis": {
         "anchor": "y",
         "domain": [
          0,
          1
         ],
         "ticktext": [
          "Liberal",
          "Centrist",
          "Conservative"
         ],
         "tickvals": [
          -0.5,
          0,
          0.5
         ],
         "title": {
          "text": "Left-Right Ideology"
         }
        },
        "yaxis": {
         "anchor": "x",
         "domain": [
          0,
          1
         ],
         "title": {
          "text": "count"
         }
        }
       }
      }
     },
     "metadata": {},
     "output_type": "display_data"
    }
   ],
   "source": [
    "ct.plot_ideology('N000188')"
   ]
  },
  {
   "cell_type": "code",
   "execution_count": 4,
   "metadata": {},
   "outputs": [
    {
     "data": {
      "text/html": [
       "<div>\n",
       "<style scoped>\n",
       "    .dataframe tbody tr th:only-of-type {\n",
       "        vertical-align: middle;\n",
       "    }\n",
       "\n",
       "    .dataframe tbody tr th {\n",
       "        vertical-align: top;\n",
       "    }\n",
       "\n",
       "    .dataframe thead th {\n",
       "        text-align: right;\n",
       "    }\n",
       "</style>\n",
       "<table border=\"1\" class=\"dataframe\">\n",
       "  <thead>\n",
       "    <tr style=\"text-align: right;\">\n",
       "      <th></th>\n",
       "      <th>bioguideid</th>\n",
       "      <th>district</th>\n",
       "      <th>name</th>\n",
       "      <th>partyname</th>\n",
       "      <th>state</th>\n",
       "      <th>nominate_dim1</th>\n",
       "    </tr>\n",
       "  </thead>\n",
       "  <tbody>\n",
       "    <tr>\n",
       "      <th>0</th>\n",
       "      <td>N000188</td>\n",
       "      <td>01</td>\n",
       "      <td>Norcross, Donald</td>\n",
       "      <td>Democratic</td>\n",
       "      <td>NJ</td>\n",
       "      <td>-0.419</td>\n",
       "    </tr>\n",
       "    <tr>\n",
       "      <th>1</th>\n",
       "      <td>Y000064</td>\n",
       "      <td>S</td>\n",
       "      <td>Young, Todd</td>\n",
       "      <td>Republican</td>\n",
       "      <td>IN</td>\n",
       "      <td>NaN</td>\n",
       "    </tr>\n",
       "    <tr>\n",
       "      <th>2</th>\n",
       "      <td>W000802</td>\n",
       "      <td>S</td>\n",
       "      <td>Whitehouse, Sheldon</td>\n",
       "      <td>Democratic</td>\n",
       "      <td>RI</td>\n",
       "      <td>NaN</td>\n",
       "    </tr>\n",
       "    <tr>\n",
       "      <th>3</th>\n",
       "      <td>W000800</td>\n",
       "      <td>S</td>\n",
       "      <td>Welch, Peter</td>\n",
       "      <td>Democratic</td>\n",
       "      <td>VT</td>\n",
       "      <td>NaN</td>\n",
       "    </tr>\n",
       "    <tr>\n",
       "      <th>4</th>\n",
       "      <td>W000779</td>\n",
       "      <td>S</td>\n",
       "      <td>Wyden, Ron</td>\n",
       "      <td>Democratic</td>\n",
       "      <td>OR</td>\n",
       "      <td>NaN</td>\n",
       "    </tr>\n",
       "    <tr>\n",
       "      <th>...</th>\n",
       "      <td>...</td>\n",
       "      <td>...</td>\n",
       "      <td>...</td>\n",
       "      <td>...</td>\n",
       "      <td>...</td>\n",
       "      <td>...</td>\n",
       "    </tr>\n",
       "    <tr>\n",
       "      <th>534</th>\n",
       "      <td>C001087</td>\n",
       "      <td>01</td>\n",
       "      <td>Crawford, Eric A. \"Rick\"</td>\n",
       "      <td>Republican</td>\n",
       "      <td>AR</td>\n",
       "      <td>0.460</td>\n",
       "    </tr>\n",
       "    <tr>\n",
       "      <th>535</th>\n",
       "      <td>S001185</td>\n",
       "      <td>07</td>\n",
       "      <td>Sewell, Terri A.</td>\n",
       "      <td>Democratic</td>\n",
       "      <td>AL</td>\n",
       "      <td>-0.402</td>\n",
       "    </tr>\n",
       "    <tr>\n",
       "      <th>536</th>\n",
       "      <td>A000055</td>\n",
       "      <td>04</td>\n",
       "      <td>Aderholt, Robert B.</td>\n",
       "      <td>Republican</td>\n",
       "      <td>AL</td>\n",
       "      <td>0.405</td>\n",
       "    </tr>\n",
       "    <tr>\n",
       "      <th>537</th>\n",
       "      <td>R000575</td>\n",
       "      <td>03</td>\n",
       "      <td>Rogers, Mike D.</td>\n",
       "      <td>Republican</td>\n",
       "      <td>AL</td>\n",
       "      <td>0.379</td>\n",
       "    </tr>\n",
       "    <tr>\n",
       "      <th>538</th>\n",
       "      <td>S001192</td>\n",
       "      <td>02</td>\n",
       "      <td>Stewart, Chris</td>\n",
       "      <td>Republican</td>\n",
       "      <td>UT</td>\n",
       "      <td>0.499</td>\n",
       "    </tr>\n",
       "  </tbody>\n",
       "</table>\n",
       "<p>539 rows × 6 columns</p>\n",
       "</div>"
      ],
      "text/plain": [
       "    bioguideid district                      name   partyname state  \\\n",
       "0      N000188       01          Norcross, Donald  Democratic    NJ   \n",
       "1      Y000064        S               Young, Todd  Republican    IN   \n",
       "2      W000802        S       Whitehouse, Sheldon  Democratic    RI   \n",
       "3      W000800        S              Welch, Peter  Democratic    VT   \n",
       "4      W000779        S                Wyden, Ron  Democratic    OR   \n",
       "..         ...      ...                       ...         ...   ...   \n",
       "534    C001087       01  Crawford, Eric A. \"Rick\"  Republican    AR   \n",
       "535    S001185       07          Sewell, Terri A.  Democratic    AL   \n",
       "536    A000055       04       Aderholt, Robert B.  Republican    AL   \n",
       "537    R000575       03           Rogers, Mike D.  Republican    AL   \n",
       "538    S001192       02            Stewart, Chris  Republican    UT   \n",
       "\n",
       "     nominate_dim1  \n",
       "0           -0.419  \n",
       "1              NaN  \n",
       "2              NaN  \n",
       "3              NaN  \n",
       "4              NaN  \n",
       "..             ...  \n",
       "534          0.460  \n",
       "535         -0.402  \n",
       "536          0.405  \n",
       "537          0.379  \n",
       "538          0.499  \n",
       "\n",
       "[539 rows x 6 columns]"
      ]
     },
     "execution_count": 4,
     "metadata": {},
     "output_type": "execute_result"
    }
   ],
   "source": [
    "server, engine = ct.connect_to_postgres(ct.POSTGRES_PASSWORD)\n",
    "myquery = '''\n",
    "SELECT bioguideid, district, name, partyname, state, nominate_dim1\n",
    "FROM members\n",
    "'''\n",
    "ideo = pd.read_sql_query(myquery, con=engine)\n",
    "ideo"
   ]
  },
  {
   "cell_type": "code",
   "execution_count": null,
   "metadata": {},
   "outputs": [],
   "source": []
  }
 ],
 "metadata": {
  "kernelspec": {
   "display_name": "Python 3",
   "language": "python",
   "name": "python3"
  },
  "language_info": {
   "codemirror_mode": {
    "name": "ipython",
    "version": 3
   },
   "file_extension": ".py",
   "mimetype": "text/x-python",
   "name": "python",
   "nbconvert_exporter": "python",
   "pygments_lexer": "ipython3",
   "version": "3.12.5"
  }
 },
 "nbformat": 4,
 "nbformat_minor": 2
}
